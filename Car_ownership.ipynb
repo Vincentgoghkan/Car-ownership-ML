{
 "cells": [
  {
   "cell_type": "markdown",
   "id": "b6693480-c5ee-43b6-8951-1f765d5f93d0",
   "metadata": {},
   "source": [
    "### Importing libraries and data"
   ]
  },
  {
   "cell_type": "code",
   "execution_count": 1,
   "id": "82f90871-b680-4e7d-ab7f-0c2ba07423f5",
   "metadata": {},
   "outputs": [],
   "source": [
    "import pandas as pd\n",
    "import numpy as np\n",
    "import seaborn as sns\n",
    "import matplotlib.pyplot as plt\n",
    "import catboost as cb\n",
    "from sklearn.model_selection import train_test_split\n",
    "from sklearn.ensemble import RandomForestClassifier\n",
    "from sklearn.metrics import accuracy_score\n",
    "from catboost import CatBoostClassifier\n",
    "from sklearn.naive_bayes import GaussianNB\n",
    "from xgboost import XGBClassifier"
   ]
  },
  {
   "cell_type": "code",
   "execution_count": 2,
   "id": "7988bd70-f8ce-482c-a800-e1d5ce91f48e",
   "metadata": {},
   "outputs": [
    {
     "data": {
      "text/html": [
       "<div>\n",
       "<style scoped>\n",
       "    .dataframe tbody tr th:only-of-type {\n",
       "        vertical-align: middle;\n",
       "    }\n",
       "\n",
       "    .dataframe tbody tr th {\n",
       "        vertical-align: top;\n",
       "    }\n",
       "\n",
       "    .dataframe thead th {\n",
       "        text-align: right;\n",
       "    }\n",
       "</style>\n",
       "<table border=\"1\" class=\"dataframe\">\n",
       "  <thead>\n",
       "    <tr style=\"text-align: right;\">\n",
       "      <th></th>\n",
       "      <th>Occupation</th>\n",
       "      <th>Monthly Income</th>\n",
       "      <th>Credit Score</th>\n",
       "      <th>Years of Employment</th>\n",
       "      <th>Finance Status</th>\n",
       "      <th>Finance History</th>\n",
       "      <th>Car</th>\n",
       "      <th>Number of Children</th>\n",
       "    </tr>\n",
       "  </thead>\n",
       "  <tbody>\n",
       "    <tr>\n",
       "      <th>0</th>\n",
       "      <td>Teacher</td>\n",
       "      <td>40000</td>\n",
       "      <td>750.0</td>\n",
       "      <td>10</td>\n",
       "      <td>Good</td>\n",
       "      <td>No issues</td>\n",
       "      <td>Yes</td>\n",
       "      <td>2</td>\n",
       "    </tr>\n",
       "    <tr>\n",
       "      <th>1</th>\n",
       "      <td>Engineer</td>\n",
       "      <td>60000</td>\n",
       "      <td>800.0</td>\n",
       "      <td>8</td>\n",
       "      <td>Good</td>\n",
       "      <td>No issues</td>\n",
       "      <td>Yes</td>\n",
       "      <td>1</td>\n",
       "    </tr>\n",
       "    <tr>\n",
       "      <th>2</th>\n",
       "      <td>Nurse</td>\n",
       "      <td>25000</td>\n",
       "      <td>650.0</td>\n",
       "      <td>5</td>\n",
       "      <td>Fair</td>\n",
       "      <td>Late payment 2 months ago</td>\n",
       "      <td>No</td>\n",
       "      <td>0</td>\n",
       "    </tr>\n",
       "    <tr>\n",
       "      <th>3</th>\n",
       "      <td>Doctor</td>\n",
       "      <td>80000</td>\n",
       "      <td>900.0</td>\n",
       "      <td>12</td>\n",
       "      <td>Excellent</td>\n",
       "      <td>No issues</td>\n",
       "      <td>Yes</td>\n",
       "      <td>3</td>\n",
       "    </tr>\n",
       "    <tr>\n",
       "      <th>4</th>\n",
       "      <td>Businessman</td>\n",
       "      <td>100000</td>\n",
       "      <td>700.0</td>\n",
       "      <td>15</td>\n",
       "      <td>Good</td>\n",
       "      <td>Late payment 6 months ago</td>\n",
       "      <td>Yes</td>\n",
       "      <td>2</td>\n",
       "    </tr>\n",
       "  </tbody>\n",
       "</table>\n",
       "</div>"
      ],
      "text/plain": [
       "    Occupation Monthly Income  Credit Score Years of Employment  \\\n",
       "0      Teacher          40000         750.0                  10   \n",
       "1     Engineer          60000         800.0                   8   \n",
       "2        Nurse          25000         650.0                   5   \n",
       "3       Doctor          80000         900.0                  12   \n",
       "4  Businessman         100000         700.0                  15   \n",
       "\n",
       "  Finance Status            Finance History  Car Number of Children  \n",
       "0           Good                  No issues  Yes                  2  \n",
       "1           Good                  No issues  Yes                  1  \n",
       "2           Fair  Late payment 2 months ago   No                  0  \n",
       "3      Excellent                  No issues  Yes                  3  \n",
       "4           Good  Late payment 6 months ago  Yes                  2  "
      ]
     },
     "execution_count": 2,
     "metadata": {},
     "output_type": "execute_result"
    }
   ],
   "source": [
    "df= pd.read_csv('Car Ownership.csv')\n",
    "df.head()"
   ]
  },
  {
   "cell_type": "markdown",
   "id": "b4f57a91-4ccf-4c08-9d72-3a2e1c3c7303",
   "metadata": {},
   "source": [
    "### Fast Analysis"
   ]
  },
  {
   "cell_type": "code",
   "execution_count": 3,
   "id": "6c112aec-864e-475a-ae3d-b3719023e720",
   "metadata": {},
   "outputs": [
    {
     "data": {
      "text/plain": [
       "(500, 8)"
      ]
     },
     "execution_count": 3,
     "metadata": {},
     "output_type": "execute_result"
    }
   ],
   "source": [
    "df.shape"
   ]
  },
  {
   "cell_type": "code",
   "execution_count": 4,
   "id": "26682df3-9795-4351-8e5e-2506d1d05692",
   "metadata": {},
   "outputs": [
    {
     "data": {
      "text/plain": [
       "Index(['Occupation', 'Monthly Income', 'Credit Score', 'Years of Employment',\n",
       "       'Finance Status', 'Finance History', 'Car', 'Number of Children'],\n",
       "      dtype='object')"
      ]
     },
     "execution_count": 4,
     "metadata": {},
     "output_type": "execute_result"
    }
   ],
   "source": [
    "df.columns"
   ]
  },
  {
   "cell_type": "code",
   "execution_count": 5,
   "id": "77e224c1-5baa-4829-9d3f-f0d6f3dae0e9",
   "metadata": {},
   "outputs": [
    {
     "name": "stdout",
     "output_type": "stream",
     "text": [
      "<class 'pandas.core.frame.DataFrame'>\n",
      "RangeIndex: 500 entries, 0 to 499\n",
      "Data columns (total 8 columns):\n",
      " #   Column               Non-Null Count  Dtype  \n",
      "---  ------               --------------  -----  \n",
      " 0   Occupation           490 non-null    object \n",
      " 1   Monthly Income       487 non-null    object \n",
      " 2   Credit Score         460 non-null    float64\n",
      " 3   Years of Employment  457 non-null    object \n",
      " 4   Finance Status       477 non-null    object \n",
      " 5   Finance History      472 non-null    object \n",
      " 6   Car                  480 non-null    object \n",
      " 7   Number of Children   375 non-null    object \n",
      "dtypes: float64(1), object(7)\n",
      "memory usage: 31.4+ KB\n"
     ]
    }
   ],
   "source": [
    "df.info()"
   ]
  },
  {
   "cell_type": "code",
   "execution_count": 6,
   "id": "6b3a3436-d285-4d52-a601-518ccbedf7fd",
   "metadata": {},
   "outputs": [
    {
     "data": {
      "text/html": [
       "<div>\n",
       "<style scoped>\n",
       "    .dataframe tbody tr th:only-of-type {\n",
       "        vertical-align: middle;\n",
       "    }\n",
       "\n",
       "    .dataframe tbody tr th {\n",
       "        vertical-align: top;\n",
       "    }\n",
       "\n",
       "    .dataframe thead th {\n",
       "        text-align: right;\n",
       "    }\n",
       "</style>\n",
       "<table border=\"1\" class=\"dataframe\">\n",
       "  <thead>\n",
       "    <tr style=\"text-align: right;\">\n",
       "      <th></th>\n",
       "      <th>count</th>\n",
       "      <th>mean</th>\n",
       "      <th>std</th>\n",
       "      <th>min</th>\n",
       "      <th>25%</th>\n",
       "      <th>50%</th>\n",
       "      <th>75%</th>\n",
       "      <th>max</th>\n",
       "    </tr>\n",
       "  </thead>\n",
       "  <tbody>\n",
       "    <tr>\n",
       "      <th>Credit Score</th>\n",
       "      <td>460.0</td>\n",
       "      <td>702.969565</td>\n",
       "      <td>69.232323</td>\n",
       "      <td>500.0</td>\n",
       "      <td>650.0</td>\n",
       "      <td>700.0</td>\n",
       "      <td>750.0</td>\n",
       "      <td>900.0</td>\n",
       "    </tr>\n",
       "  </tbody>\n",
       "</table>\n",
       "</div>"
      ],
      "text/plain": [
       "              count        mean        std    min    25%    50%    75%    max\n",
       "Credit Score  460.0  702.969565  69.232323  500.0  650.0  700.0  750.0  900.0"
      ]
     },
     "execution_count": 6,
     "metadata": {},
     "output_type": "execute_result"
    }
   ],
   "source": [
    "df.describe().T"
   ]
  },
  {
   "cell_type": "code",
   "execution_count": 7,
   "id": "f18d3895-de9c-4b22-9b56-265278926a53",
   "metadata": {},
   "outputs": [
    {
     "data": {
      "text/plain": [
       "Occupation              10\n",
       "Monthly Income          13\n",
       "Credit Score            40\n",
       "Years of Employment     43\n",
       "Finance Status          23\n",
       "Finance History         28\n",
       "Car                     20\n",
       "Number of Children     125\n",
       "dtype: int64"
      ]
     },
     "execution_count": 7,
     "metadata": {},
     "output_type": "execute_result"
    }
   ],
   "source": [
    "df.isna().sum()"
   ]
  },
  {
   "cell_type": "code",
   "execution_count": 8,
   "id": "30f63377-482a-4378-ba4b-246e99a6eaeb",
   "metadata": {},
   "outputs": [
    {
     "data": {
      "text/plain": [
       "array(['40000', '60000', '25000', '80000', '100000', '50000', '35000',\n",
       "       '20000', '120000', '90000', nan, '6000', '3000', '4000', '8000',\n",
       "       '9000', '12000', '5000', '7000', '3500', '2500', '5500', '4500',\n",
       "       '10000', '2000', '$4,500 ', '$7,800 ', '$3,200 ', '$6,500 ',\n",
       "       '$3,000 ', '$3,800 ', '$10,000 ', '$2,500 ', '$5,200 ', '$3,700 ',\n",
       "       '$8,500 ', '$6,200 ', '$2,800 ', '$9,000 ', '$6,000 ', '$3,500 ',\n",
       "       '$5,800 ', '$6,800 ', '$2,700 ', '$3,600 ', '$9,200 ', '$3,100 ',\n",
       "       '$7,000 ', '$4,800 ', '$4,200 ', '$7,500 ', '$5,000 ', '3.2k USD',\n",
       "       '8.5k USD', '9k', '$4,000 ', '$8,000 ', '$15,000 ', '5k',\n",
       "       '$9,500 ', '$5,500 ', '$12,000 ', '15k', '$2,000 ', '$1,500 ',\n",
       "       '$7,200 ', '2.8k', '7.5k', '5000 usd', '2500 usd', '8000 usd',\n",
       "       '9000 USD', '10000 USD', '3500 USD', '2.5k', '6000 usd',\n",
       "       '4500 usd', '$2,200 ', '$8 ', '$2,900 ', '$4,100 ', '$8,200 ',\n",
       "       '$3,900 ', '$4,400 ', '$6,100 ', '$3,400 ', '$8,400 ', '$11,000 ',\n",
       "       '$4,600 ', '$5,400 ', '11k', '$8,600 ', '3400 usd', '$6,900 ',\n",
       "       '$4,300 ', '3200 USD', '$', '$10,500 ', '$7 '], dtype=object)"
      ]
     },
     "execution_count": 8,
     "metadata": {},
     "output_type": "execute_result"
    }
   ],
   "source": [
    "df['Monthly Income'].unique()"
   ]
  },
  {
   "cell_type": "code",
   "execution_count": 9,
   "id": "08437c96-2137-43d3-9ad5-9e58b43a0376",
   "metadata": {},
   "outputs": [
    {
     "data": {
      "text/plain": [
       "array(['10', '8', '5', '12', '15', '6', '3', '20', nan, '1', '7', '4',\n",
       "       '2', '3 years', '5 years', '2 years', '7 years', '1 year',\n",
       "       '4 years', '8 years', '6 years', '2 y', '3 year', '2 year',\n",
       "       '6 year', '7 y', '10 years', '12 years', '3 y', '9 years',\n",
       "       '11 years', '7 year', '8 year', '4 year', '5 year'], dtype=object)"
      ]
     },
     "execution_count": 9,
     "metadata": {},
     "output_type": "execute_result"
    }
   ],
   "source": [
    "df['Years of Employment'].unique()"
   ]
  },
  {
   "cell_type": "code",
   "execution_count": 10,
   "id": "b3b869d4-ffe4-4d24-ae32-149188d8b50a",
   "metadata": {},
   "outputs": [
    {
     "data": {
      "text/plain": [
       "array([750., 800., 650., 900., 700., 600., 850.,  nan, 820., 720., 780.,\n",
       "       550., 740., 690., 620., 680., 760., 670., 500., 790., 610., 590.,\n",
       "       730., 640., 630., 710., 660., 840., 890., 770., 830., 560., 810.,\n",
       "       570., 689., 755., 765., 631., 643., 718., 598., 806., 642., 693.,\n",
       "       728., 724., 672., 703., 792., 678., 723., 775., 758., 702., 795.,\n",
       "       715., 654., 742., 732., 695., 726., 725., 708., 745., 641.])"
      ]
     },
     "execution_count": 10,
     "metadata": {},
     "output_type": "execute_result"
    }
   ],
   "source": [
    "df['Credit Score'].unique()"
   ]
  },
  {
   "cell_type": "markdown",
   "id": "b81a5bb5-20fe-4136-9a7d-8fbf39094a1b",
   "metadata": {},
   "source": [
    "### Data Preprocessing"
   ]
  },
  {
   "cell_type": "code",
   "execution_count": 11,
   "id": "57d05414-a557-4eaa-893d-6817d9c8eb24",
   "metadata": {},
   "outputs": [],
   "source": [
    "def remove_chars(text):\n",
    "    remove =['+','$',',',' ','k','USD','usd','.','years','year','y',' y',]\n",
    "    for char in remove:\n",
    "        text=str(text).replace(char, '')\n",
    "    return text\n",
    "cols_to_apply=['Monthly Income','Years of Employment','Credit Score']\n",
    "df[cols_to_apply]= df[cols_to_apply].applymap(remove_chars)"
   ]
  },
  {
   "cell_type": "code",
   "execution_count": 12,
   "id": "3016cf93-a322-4fc0-adcc-061df502a88d",
   "metadata": {
    "tags": []
   },
   "outputs": [
    {
     "data": {
      "text/plain": [
       "Occupation             False\n",
       "Monthly Income          True\n",
       "Credit Score            True\n",
       "Years of Employment     True\n",
       "Finance Status         False\n",
       "Finance History        False\n",
       "Car                    False\n",
       "Number of Children     False\n",
       "dtype: bool"
      ]
     },
     "execution_count": 12,
     "metadata": {},
     "output_type": "execute_result"
    }
   ],
   "source": [
    "df.isin(['nan']).any()"
   ]
  },
  {
   "cell_type": "code",
   "execution_count": 13,
   "id": "ec47d7de-f29a-47af-bd5d-58f70f9afbb7",
   "metadata": {},
   "outputs": [
    {
     "data": {
      "text/plain": [
       "Occupation             False\n",
       "Monthly Income         False\n",
       "Credit Score           False\n",
       "Years of Employment    False\n",
       "Finance Status         False\n",
       "Finance History        False\n",
       "Car                    False\n",
       "Number of Children      True\n",
       "dtype: bool"
      ]
     },
     "execution_count": 13,
     "metadata": {},
     "output_type": "execute_result"
    }
   ],
   "source": [
    "df.isin(['na']).any()"
   ]
  },
  {
   "cell_type": "code",
   "execution_count": 14,
   "id": "9d399d93-4ea2-42ae-8fae-1a335635baa8",
   "metadata": {
    "tags": []
   },
   "outputs": [],
   "source": [
    "df['Years of Employment'].replace('nan',np.nan,inplace=True)\n",
    "df['Monthly Income'].replace('nan',np.nan,inplace=True)\n",
    "df['Credit Score'].replace('nan',np.nan,inplace=True)\n",
    "df['Number of Children'].replace('na',np.nan,inplace=True)\n",
    "df['Years of Employment'].fillna(df['Years of Employment'].mode()[0],inplace=True)\n",
    "df['Years of Employment']=df['Years of Employment'].astype(int)\n"
   ]
  },
  {
   "cell_type": "code",
   "execution_count": 15,
   "id": "66af4f77-ede4-4d23-b846-d94febe60ac9",
   "metadata": {},
   "outputs": [
    {
     "data": {
      "text/plain": [
       "0"
      ]
     },
     "execution_count": 15,
     "metadata": {},
     "output_type": "execute_result"
    }
   ],
   "source": [
    "df['Years of Employment'].isna().sum()"
   ]
  },
  {
   "cell_type": "code",
   "execution_count": 16,
   "id": "11e1acb4-650a-4021-a110-2a0f1620a3c3",
   "metadata": {},
   "outputs": [],
   "source": [
    "df.dropna(thresh=6,inplace=True)"
   ]
  },
  {
   "cell_type": "code",
   "execution_count": 17,
   "id": "91079e95-8852-4c33-bec0-99966a1389f3",
   "metadata": {},
   "outputs": [
    {
     "data": {
      "text/plain": [
       "Occupation               0\n",
       "Monthly Income           2\n",
       "Credit Score            24\n",
       "Years of Employment      0\n",
       "Finance Status           4\n",
       "Finance History          9\n",
       "Car                      3\n",
       "Number of Children     135\n",
       "dtype: int64"
      ]
     },
     "execution_count": 17,
     "metadata": {},
     "output_type": "execute_result"
    }
   ],
   "source": [
    "df.isna().sum()"
   ]
  },
  {
   "cell_type": "code",
   "execution_count": 18,
   "id": "bbe584d5-a158-4133-a752-3407d3e4f955",
   "metadata": {},
   "outputs": [
    {
     "data": {
      "text/html": [
       "<div>\n",
       "<style scoped>\n",
       "    .dataframe tbody tr th:only-of-type {\n",
       "        vertical-align: middle;\n",
       "    }\n",
       "\n",
       "    .dataframe tbody tr th {\n",
       "        vertical-align: top;\n",
       "    }\n",
       "\n",
       "    .dataframe thead th {\n",
       "        text-align: right;\n",
       "    }\n",
       "</style>\n",
       "<table border=\"1\" class=\"dataframe\">\n",
       "  <thead>\n",
       "    <tr style=\"text-align: right;\">\n",
       "      <th></th>\n",
       "      <th>Occupation</th>\n",
       "      <th>Monthly Income</th>\n",
       "      <th>Credit Score</th>\n",
       "      <th>Years of Employment</th>\n",
       "      <th>Finance Status</th>\n",
       "      <th>Finance History</th>\n",
       "      <th>Car</th>\n",
       "      <th>Number of Children</th>\n",
       "    </tr>\n",
       "  </thead>\n",
       "  <tbody>\n",
       "    <tr>\n",
       "      <th>377</th>\n",
       "      <td>Physical Therapist</td>\n",
       "      <td>7000</td>\n",
       "      <td>7650</td>\n",
       "      <td>6</td>\n",
       "      <td>NaN</td>\n",
       "      <td>No significant issues</td>\n",
       "      <td>Yes</td>\n",
       "      <td>2</td>\n",
       "    </tr>\n",
       "    <tr>\n",
       "      <th>399</th>\n",
       "      <td>Medical Assistant</td>\n",
       "      <td>2900</td>\n",
       "      <td>6100</td>\n",
       "      <td>2</td>\n",
       "      <td>NaN</td>\n",
       "      <td>Late payments, collections</td>\n",
       "      <td>No</td>\n",
       "      <td>0</td>\n",
       "    </tr>\n",
       "    <tr>\n",
       "      <th>402</th>\n",
       "      <td>Account Executive</td>\n",
       "      <td>6800</td>\n",
       "      <td>7150</td>\n",
       "      <td>5</td>\n",
       "      <td>NaN</td>\n",
       "      <td>No significant issues</td>\n",
       "      <td>Yes</td>\n",
       "      <td>0</td>\n",
       "    </tr>\n",
       "    <tr>\n",
       "      <th>464</th>\n",
       "      <td>IT Manager</td>\n",
       "      <td>8500</td>\n",
       "      <td>7500</td>\n",
       "      <td>7</td>\n",
       "      <td>NaN</td>\n",
       "      <td>No significant issues</td>\n",
       "      <td>Yes</td>\n",
       "      <td>2</td>\n",
       "    </tr>\n",
       "  </tbody>\n",
       "</table>\n",
       "</div>"
      ],
      "text/plain": [
       "             Occupation Monthly Income Credit Score  Years of Employment  \\\n",
       "377  Physical Therapist           7000         7650                    6   \n",
       "399   Medical Assistant           2900         6100                    2   \n",
       "402   Account Executive           6800         7150                    5   \n",
       "464          IT Manager           8500         7500                    7   \n",
       "\n",
       "    Finance Status             Finance History  Car Number of Children  \n",
       "377            NaN       No significant issues  Yes                  2  \n",
       "399            NaN  Late payments, collections   No                  0  \n",
       "402            NaN       No significant issues  Yes                  0  \n",
       "464            NaN       No significant issues  Yes                  2  "
      ]
     },
     "execution_count": 18,
     "metadata": {},
     "output_type": "execute_result"
    }
   ],
   "source": [
    "df[df['Finance Status'].isna()==True]"
   ]
  },
  {
   "cell_type": "code",
   "execution_count": 19,
   "id": "a4521ef5-79ff-4aea-94b0-41d23e1468a3",
   "metadata": {},
   "outputs": [],
   "source": [
    "nan_rows = df[df['Finance Status'].isna()==True].index\n",
    "\n",
    "df.loc[nan_rows[0], 'Finance Status'] ='Good'\n",
    "df.loc[nan_rows[1], 'Finance Status'] ='Poor'\n",
    "df.loc[nan_rows[2], 'Finance Status'] ='Good'\n",
    "df.loc[nan_rows[3], 'Finance Status'] ='Good'"
   ]
  },
  {
   "cell_type": "code",
   "execution_count": 20,
   "id": "f29aab83-2582-46c9-885e-5171afc6990c",
   "metadata": {},
   "outputs": [
    {
     "data": {
      "text/plain": [
       "Stable       304\n",
       "Unstable      87\n",
       "Good          29\n",
       "Fair          28\n",
       "Excellent     22\n",
       "Poor           9\n",
       "Unknow         1\n",
       "Unkonw         1\n",
       "Name: Finance Status, dtype: int64"
      ]
     },
     "execution_count": 20,
     "metadata": {},
     "output_type": "execute_result"
    }
   ],
   "source": [
    "df['Finance Status'].value_counts()"
   ]
  },
  {
   "cell_type": "code",
   "execution_count": 21,
   "id": "05c9f530-5c8c-4175-bae1-51e0b8bdbb9a",
   "metadata": {},
   "outputs": [],
   "source": [
    "df=df.drop((df[(df['Finance Status'] == 'Unknow') | (df['Finance Status'] == 'Unkonw')]).index)"
   ]
  },
  {
   "cell_type": "code",
   "execution_count": 22,
   "id": "71102a47-30b3-4e59-aa8e-45437cfbcfd4",
   "metadata": {},
   "outputs": [
    {
     "data": {
      "text/html": [
       "<div>\n",
       "<style scoped>\n",
       "    .dataframe tbody tr th:only-of-type {\n",
       "        vertical-align: middle;\n",
       "    }\n",
       "\n",
       "    .dataframe tbody tr th {\n",
       "        vertical-align: top;\n",
       "    }\n",
       "\n",
       "    .dataframe thead th {\n",
       "        text-align: right;\n",
       "    }\n",
       "</style>\n",
       "<table border=\"1\" class=\"dataframe\">\n",
       "  <thead>\n",
       "    <tr style=\"text-align: right;\">\n",
       "      <th></th>\n",
       "      <th>Occupation</th>\n",
       "      <th>Monthly Income</th>\n",
       "      <th>Credit Score</th>\n",
       "      <th>Years of Employment</th>\n",
       "      <th>Finance Status</th>\n",
       "      <th>Finance History</th>\n",
       "      <th>Car</th>\n",
       "      <th>Number of Children</th>\n",
       "    </tr>\n",
       "  </thead>\n",
       "  <tbody>\n",
       "    <tr>\n",
       "      <th>0</th>\n",
       "      <td>Teacher</td>\n",
       "      <td>40000</td>\n",
       "      <td>7500</td>\n",
       "      <td>10</td>\n",
       "      <td>Good</td>\n",
       "      <td>No issues</td>\n",
       "      <td>Yes</td>\n",
       "      <td>2</td>\n",
       "    </tr>\n",
       "    <tr>\n",
       "      <th>1</th>\n",
       "      <td>Engineer</td>\n",
       "      <td>60000</td>\n",
       "      <td>8000</td>\n",
       "      <td>8</td>\n",
       "      <td>Good</td>\n",
       "      <td>No issues</td>\n",
       "      <td>Yes</td>\n",
       "      <td>1</td>\n",
       "    </tr>\n",
       "    <tr>\n",
       "      <th>2</th>\n",
       "      <td>Nurse</td>\n",
       "      <td>25000</td>\n",
       "      <td>6500</td>\n",
       "      <td>5</td>\n",
       "      <td>Fair</td>\n",
       "      <td>Late payment 2 months ago</td>\n",
       "      <td>No</td>\n",
       "      <td>0</td>\n",
       "    </tr>\n",
       "    <tr>\n",
       "      <th>3</th>\n",
       "      <td>Doctor</td>\n",
       "      <td>80000</td>\n",
       "      <td>9000</td>\n",
       "      <td>12</td>\n",
       "      <td>Excellent</td>\n",
       "      <td>No issues</td>\n",
       "      <td>Yes</td>\n",
       "      <td>3</td>\n",
       "    </tr>\n",
       "    <tr>\n",
       "      <th>4</th>\n",
       "      <td>Businessman</td>\n",
       "      <td>100000</td>\n",
       "      <td>7000</td>\n",
       "      <td>15</td>\n",
       "      <td>Good</td>\n",
       "      <td>Late payment 6 months ago</td>\n",
       "      <td>Yes</td>\n",
       "      <td>2</td>\n",
       "    </tr>\n",
       "  </tbody>\n",
       "</table>\n",
       "</div>"
      ],
      "text/plain": [
       "    Occupation Monthly Income Credit Score  Years of Employment  \\\n",
       "0      Teacher          40000         7500                   10   \n",
       "1     Engineer          60000         8000                    8   \n",
       "2        Nurse          25000         6500                    5   \n",
       "3       Doctor          80000         9000                   12   \n",
       "4  Businessman         100000         7000                   15   \n",
       "\n",
       "  Finance Status            Finance History  Car Number of Children  \n",
       "0           Good                  No issues  Yes                  2  \n",
       "1           Good                  No issues  Yes                  1  \n",
       "2           Fair  Late payment 2 months ago   No                  0  \n",
       "3      Excellent                  No issues  Yes                  3  \n",
       "4           Good  Late payment 6 months ago  Yes                  2  "
      ]
     },
     "execution_count": 22,
     "metadata": {},
     "output_type": "execute_result"
    }
   ],
   "source": [
    "df.head()"
   ]
  },
  {
   "cell_type": "code",
   "execution_count": 23,
   "id": "522b58b0-6ee5-4b12-8bbe-d14ed1f3db9d",
   "metadata": {},
   "outputs": [
    {
     "data": {
      "text/plain": [
       "No significant issues                        313\n",
       "Missed payments in the past                   50\n",
       "Late payments                                 31\n",
       "Late payments, collections                    17\n",
       "No issues                                     12\n",
       "Poor                                          12\n",
       "Excellent                                     10\n",
       "Good                                           8\n",
       "Fair                                           6\n",
       "Late payment 2 months ago                      2\n",
       "Late payment 6 months ago                      2\n",
       "Late payment 3 months ago                      2\n",
       "Late payment 1 month ago                       2\n",
       "Late payment                                   1\n",
       "No significant issue                           1\n",
       "Missed payments, collections, charge-offs      1\n",
       "Name: Finance History, dtype: int64"
      ]
     },
     "execution_count": 23,
     "metadata": {},
     "output_type": "execute_result"
    }
   ],
   "source": [
    "df['Finance History'].value_counts()"
   ]
  },
  {
   "cell_type": "code",
   "execution_count": 24,
   "id": "c49da12f-855b-49ef-9807-2db223f6d8d3",
   "metadata": {},
   "outputs": [],
   "source": [
    "df['Finance History'].fillna(df['Finance History'].mode()[0],inplace=True)"
   ]
  },
  {
   "cell_type": "code",
   "execution_count": 25,
   "id": "f6e7c19b-b0ab-4f99-9efe-c02937716a6d",
   "metadata": {},
   "outputs": [],
   "source": [
    "df.loc[df['Finance History'].str.contains('Late'), 'Finance History'] = 'Late payments'\n",
    "df.loc[df['Finance History'].str.contains('No'), 'Finance History'] = 'No issues'\n",
    "df.loc[df['Finance History'].str.contains('Missed'), 'Finance History'] = 'Missed payments'"
   ]
  },
  {
   "cell_type": "code",
   "execution_count": 26,
   "id": "c2a74eaa-16f6-4bd4-bafa-c4370a8c200b",
   "metadata": {},
   "outputs": [
    {
     "data": {
      "text/plain": [
       "No issues          335\n",
       "Late payments       57\n",
       "Missed payments     51\n",
       "Poor                12\n",
       "Excellent           10\n",
       "Good                 8\n",
       "Fair                 6\n",
       "Name: Finance History, dtype: int64"
      ]
     },
     "execution_count": 26,
     "metadata": {},
     "output_type": "execute_result"
    }
   ],
   "source": [
    "df['Finance History'].value_counts()"
   ]
  },
  {
   "cell_type": "code",
   "execution_count": 27,
   "id": "2fd89f88-f19a-414d-8c10-b90ac5967815",
   "metadata": {},
   "outputs": [],
   "source": [
    "df.dropna(subset=['Car'],inplace=True)"
   ]
  },
  {
   "cell_type": "code",
   "execution_count": 28,
   "id": "24bb3a7a-466e-4ee8-925c-db005b1ac892",
   "metadata": {},
   "outputs": [
    {
     "data": {
      "text/plain": [
       "Occupation               0\n",
       "Monthly Income           2\n",
       "Credit Score            23\n",
       "Years of Employment      0\n",
       "Finance Status           0\n",
       "Finance History          0\n",
       "Car                      0\n",
       "Number of Children     135\n",
       "dtype: int64"
      ]
     },
     "execution_count": 28,
     "metadata": {},
     "output_type": "execute_result"
    }
   ],
   "source": [
    "df.isna().sum()"
   ]
  },
  {
   "cell_type": "code",
   "execution_count": 29,
   "id": "5bade1e6-3b4b-4e1a-9bd1-e2b2b1667010",
   "metadata": {},
   "outputs": [],
   "source": [
    "df['Number of Children'].fillna(df['Number of Children'].mode()[0],inplace=True)"
   ]
  },
  {
   "cell_type": "code",
   "execution_count": 30,
   "id": "be454ff0-2882-43fa-8c36-028d7fe0ea70",
   "metadata": {},
   "outputs": [
    {
     "data": {
      "text/plain": [
       "Occupation              0\n",
       "Monthly Income          2\n",
       "Credit Score           23\n",
       "Years of Employment     0\n",
       "Finance Status          0\n",
       "Finance History         0\n",
       "Car                     0\n",
       "Number of Children      0\n",
       "dtype: int64"
      ]
     },
     "execution_count": 30,
     "metadata": {},
     "output_type": "execute_result"
    }
   ],
   "source": [
    "df.isna().sum()"
   ]
  },
  {
   "cell_type": "code",
   "execution_count": 31,
   "id": "1e3f885e-54bf-429d-9dfa-091ca0d013c3",
   "metadata": {},
   "outputs": [
    {
     "data": {
      "text/html": [
       "<div>\n",
       "<style scoped>\n",
       "    .dataframe tbody tr th:only-of-type {\n",
       "        vertical-align: middle;\n",
       "    }\n",
       "\n",
       "    .dataframe tbody tr th {\n",
       "        vertical-align: top;\n",
       "    }\n",
       "\n",
       "    .dataframe thead th {\n",
       "        text-align: right;\n",
       "    }\n",
       "</style>\n",
       "<table border=\"1\" class=\"dataframe\">\n",
       "  <thead>\n",
       "    <tr style=\"text-align: right;\">\n",
       "      <th></th>\n",
       "      <th>Occupation</th>\n",
       "      <th>Monthly Income</th>\n",
       "      <th>Credit Score</th>\n",
       "      <th>Years of Employment</th>\n",
       "      <th>Finance Status</th>\n",
       "      <th>Finance History</th>\n",
       "      <th>Car</th>\n",
       "      <th>Number of Children</th>\n",
       "    </tr>\n",
       "  </thead>\n",
       "  <tbody>\n",
       "    <tr>\n",
       "      <th>0</th>\n",
       "      <td>Teacher</td>\n",
       "      <td>40000</td>\n",
       "      <td>7500</td>\n",
       "      <td>10</td>\n",
       "      <td>Good</td>\n",
       "      <td>No issues</td>\n",
       "      <td>Yes</td>\n",
       "      <td>2</td>\n",
       "    </tr>\n",
       "    <tr>\n",
       "      <th>1</th>\n",
       "      <td>Engineer</td>\n",
       "      <td>60000</td>\n",
       "      <td>8000</td>\n",
       "      <td>8</td>\n",
       "      <td>Good</td>\n",
       "      <td>No issues</td>\n",
       "      <td>Yes</td>\n",
       "      <td>1</td>\n",
       "    </tr>\n",
       "    <tr>\n",
       "      <th>2</th>\n",
       "      <td>Nurse</td>\n",
       "      <td>25000</td>\n",
       "      <td>6500</td>\n",
       "      <td>5</td>\n",
       "      <td>Fair</td>\n",
       "      <td>Late payments</td>\n",
       "      <td>No</td>\n",
       "      <td>0</td>\n",
       "    </tr>\n",
       "    <tr>\n",
       "      <th>3</th>\n",
       "      <td>Doctor</td>\n",
       "      <td>80000</td>\n",
       "      <td>9000</td>\n",
       "      <td>12</td>\n",
       "      <td>Excellent</td>\n",
       "      <td>No issues</td>\n",
       "      <td>Yes</td>\n",
       "      <td>3</td>\n",
       "    </tr>\n",
       "    <tr>\n",
       "      <th>4</th>\n",
       "      <td>Businessman</td>\n",
       "      <td>100000</td>\n",
       "      <td>7000</td>\n",
       "      <td>15</td>\n",
       "      <td>Good</td>\n",
       "      <td>Late payments</td>\n",
       "      <td>Yes</td>\n",
       "      <td>2</td>\n",
       "    </tr>\n",
       "    <tr>\n",
       "      <th>5</th>\n",
       "      <td>Engineer</td>\n",
       "      <td>50000</td>\n",
       "      <td>7500</td>\n",
       "      <td>6</td>\n",
       "      <td>Fair</td>\n",
       "      <td>No issues</td>\n",
       "      <td>No</td>\n",
       "      <td>1</td>\n",
       "    </tr>\n",
       "    <tr>\n",
       "      <th>6</th>\n",
       "      <td>Teacher</td>\n",
       "      <td>35000</td>\n",
       "      <td>7000</td>\n",
       "      <td>8</td>\n",
       "      <td>Fair</td>\n",
       "      <td>Late payments</td>\n",
       "      <td>Yes</td>\n",
       "      <td>0</td>\n",
       "    </tr>\n",
       "    <tr>\n",
       "      <th>7</th>\n",
       "      <td>Nurse</td>\n",
       "      <td>20000</td>\n",
       "      <td>6000</td>\n",
       "      <td>3</td>\n",
       "      <td>Poor</td>\n",
       "      <td>Late payments</td>\n",
       "      <td>No</td>\n",
       "      <td>0</td>\n",
       "    </tr>\n",
       "    <tr>\n",
       "      <th>8</th>\n",
       "      <td>Businessman</td>\n",
       "      <td>120000</td>\n",
       "      <td>8500</td>\n",
       "      <td>20</td>\n",
       "      <td>Excellent</td>\n",
       "      <td>No issues</td>\n",
       "      <td>Yes</td>\n",
       "      <td>0</td>\n",
       "    </tr>\n",
       "    <tr>\n",
       "      <th>9</th>\n",
       "      <td>Doctor</td>\n",
       "      <td>90000</td>\n",
       "      <td>8000</td>\n",
       "      <td>10</td>\n",
       "      <td>Good</td>\n",
       "      <td>No issues</td>\n",
       "      <td>Yes</td>\n",
       "      <td>0</td>\n",
       "    </tr>\n",
       "    <tr>\n",
       "      <th>11</th>\n",
       "      <td>Engineer</td>\n",
       "      <td>6000</td>\n",
       "      <td>7000</td>\n",
       "      <td>3</td>\n",
       "      <td>Good</td>\n",
       "      <td>Excellent</td>\n",
       "      <td>Yes</td>\n",
       "      <td>0</td>\n",
       "    </tr>\n",
       "    <tr>\n",
       "      <th>12</th>\n",
       "      <td>Salesperson</td>\n",
       "      <td>3000</td>\n",
       "      <td>6000</td>\n",
       "      <td>1</td>\n",
       "      <td>Fair</td>\n",
       "      <td>Poor</td>\n",
       "      <td>No</td>\n",
       "      <td>0</td>\n",
       "    </tr>\n",
       "    <tr>\n",
       "      <th>13</th>\n",
       "      <td>Teacher</td>\n",
       "      <td>4000</td>\n",
       "      <td>7500</td>\n",
       "      <td>5</td>\n",
       "      <td>Excellent</td>\n",
       "      <td>Excellent</td>\n",
       "      <td>Yes</td>\n",
       "      <td>0</td>\n",
       "    </tr>\n",
       "    <tr>\n",
       "      <th>14</th>\n",
       "      <td>Entrepreneur</td>\n",
       "      <td>8000</td>\n",
       "      <td>8000</td>\n",
       "      <td>7</td>\n",
       "      <td>Good</td>\n",
       "      <td>Excellent</td>\n",
       "      <td>Yes</td>\n",
       "      <td>0</td>\n",
       "    </tr>\n",
       "    <tr>\n",
       "      <th>15</th>\n",
       "      <td>Lawyer</td>\n",
       "      <td>9000</td>\n",
       "      <td>8200</td>\n",
       "      <td>10</td>\n",
       "      <td>Excellent</td>\n",
       "      <td>Good</td>\n",
       "      <td>Yes</td>\n",
       "      <td>0</td>\n",
       "    </tr>\n",
       "  </tbody>\n",
       "</table>\n",
       "</div>"
      ],
      "text/plain": [
       "      Occupation Monthly Income Credit Score  Years of Employment  \\\n",
       "0        Teacher          40000         7500                   10   \n",
       "1       Engineer          60000         8000                    8   \n",
       "2          Nurse          25000         6500                    5   \n",
       "3         Doctor          80000         9000                   12   \n",
       "4    Businessman         100000         7000                   15   \n",
       "5       Engineer          50000         7500                    6   \n",
       "6        Teacher          35000         7000                    8   \n",
       "7          Nurse          20000         6000                    3   \n",
       "8    Businessman         120000         8500                   20   \n",
       "9         Doctor          90000         8000                   10   \n",
       "11      Engineer           6000         7000                    3   \n",
       "12   Salesperson           3000         6000                    1   \n",
       "13       Teacher           4000         7500                    5   \n",
       "14  Entrepreneur           8000         8000                    7   \n",
       "15        Lawyer           9000         8200                   10   \n",
       "\n",
       "   Finance Status Finance History  Car Number of Children  \n",
       "0            Good       No issues  Yes                  2  \n",
       "1            Good       No issues  Yes                  1  \n",
       "2            Fair   Late payments   No                  0  \n",
       "3       Excellent       No issues  Yes                  3  \n",
       "4            Good   Late payments  Yes                  2  \n",
       "5            Fair       No issues   No                  1  \n",
       "6            Fair   Late payments  Yes                  0  \n",
       "7            Poor   Late payments   No                  0  \n",
       "8       Excellent       No issues  Yes                  0  \n",
       "9            Good       No issues  Yes                  0  \n",
       "11           Good       Excellent  Yes                  0  \n",
       "12           Fair            Poor   No                  0  \n",
       "13      Excellent       Excellent  Yes                  0  \n",
       "14           Good       Excellent  Yes                  0  \n",
       "15      Excellent            Good  Yes                  0  "
      ]
     },
     "execution_count": 31,
     "metadata": {},
     "output_type": "execute_result"
    }
   ],
   "source": [
    "df.head(15)"
   ]
  },
  {
   "cell_type": "code",
   "execution_count": 32,
   "id": "31f3c48c-7642-4608-a9d4-8af05bb5a457",
   "metadata": {},
   "outputs": [
    {
     "data": {
      "text/plain": [
       "Occupation              0\n",
       "Monthly Income          2\n",
       "Credit Score           23\n",
       "Years of Employment     0\n",
       "Finance Status          0\n",
       "Finance History         0\n",
       "Car                     0\n",
       "Number of Children      0\n",
       "dtype: int64"
      ]
     },
     "execution_count": 32,
     "metadata": {},
     "output_type": "execute_result"
    }
   ],
   "source": [
    "df.isna().sum()"
   ]
  },
  {
   "cell_type": "code",
   "execution_count": 33,
   "id": "65cc11a4-b3da-47ce-a7f7-857605115873",
   "metadata": {},
   "outputs": [],
   "source": [
    "df['Credit Score']=df['Credit Score'].astype(float)\n",
    "df['Credit Score'].fillna(df['Credit Score'].mean(),inplace=True)"
   ]
  },
  {
   "cell_type": "code",
   "execution_count": 34,
   "id": "c77ec938-1d38-422f-b460-2f0ff8455f02",
   "metadata": {},
   "outputs": [],
   "source": [
    "df['Monthly Income']=df['Monthly Income'].astype(float)\n",
    "df['Monthly Income'].fillna(df['Monthly Income'].mean(),inplace=True)\n",
    "df['Credit Score'].fillna(df['Credit Score'].mean(),inplace=True)"
   ]
  },
  {
   "cell_type": "code",
   "execution_count": 35,
   "id": "7caae08c-ea61-4348-bd69-6fd57b00093f",
   "metadata": {},
   "outputs": [],
   "source": [
    "num_cols=['Monthly Income','Credit Score','Years of Employment','Number of Children']\n",
    "df[num_cols]=df[num_cols].astype(float)"
   ]
  },
  {
   "cell_type": "code",
   "execution_count": 36,
   "id": "08555585-c2ad-42b3-99cb-9413ffdf733b",
   "metadata": {},
   "outputs": [
    {
     "data": {
      "text/plain": [
       "5.0"
      ]
     },
     "execution_count": 36,
     "metadata": {},
     "output_type": "execute_result"
    }
   ],
   "source": [
    "df['Monthly Income'].min()"
   ]
  },
  {
   "cell_type": "code",
   "execution_count": 37,
   "id": "06db9b5d-62bf-408e-be50-0c0c50cff257",
   "metadata": {},
   "outputs": [
    {
     "data": {
      "text/plain": [
       "120000.0"
      ]
     },
     "execution_count": 37,
     "metadata": {},
     "output_type": "execute_result"
    }
   ],
   "source": [
    "df['Monthly Income'].max()"
   ]
  },
  {
   "cell_type": "code",
   "execution_count": 38,
   "id": "3ff1d8f9-5f6d-4204-a616-be2d74b9a5d0",
   "metadata": {},
   "outputs": [],
   "source": [
    "def multiply(value):\n",
    "    if value<86:\n",
    "        return  value*1000\n",
    "    return value\n",
    "df['Monthly Income'] =df['Monthly Income'].apply(multiply)"
   ]
  },
  {
   "cell_type": "markdown",
   "id": "4476a78d-87e8-4b7f-a3ff-eb86c5850305",
   "metadata": {},
   "source": [
    "### Visualization"
   ]
  },
  {
   "cell_type": "code",
   "execution_count": 39,
   "id": "1d9b3322-bf67-4277-96fc-0afd00e918d0",
   "metadata": {},
   "outputs": [
    {
     "data": {
      "text/plain": [
       "<AxesSubplot:>"
      ]
     },
     "execution_count": 39,
     "metadata": {},
     "output_type": "execute_result"
    },
    {
     "data": {
      "image/png": "[encoded data removed]",
      "text/plain": [
       "<Figure size 640x480 with 2 Axes>"
      ]
     },
     "metadata": {},
     "output_type": "display_data"
    }
   ],
   "source": [
    "sns.heatmap(df.corr(),cmap='YlGnBu')"
   ]
  },
  {
   "cell_type": "markdown",
   "id": "d150ab26-6832-49be-a821-feba472b54ad",
   "metadata": {},
   "source": [
    "### Outlier Value Analysis"
   ]
  },
  {
   "cell_type": "code",
   "execution_count": 40,
   "id": "74d38f32-4508-475f-b6b3-00d042b1fe7d",
   "metadata": {},
   "outputs": [
    {
     "data": {
      "text/plain": [
       "<AxesSubplot:ylabel='Credit Score'>"
      ]
     },
     "execution_count": 40,
     "metadata": {},
     "output_type": "execute_result"
    },
    {
     "data": {
      "image/png": "[encoded data removed]",
      "text/plain": [
       "<Figure size 640x480 with 1 Axes>"
      ]
     },
     "metadata": {},
     "output_type": "display_data"
    }
   ],
   "source": [
    "sns.boxplot(data=df,y='Credit Score')"
   ]
  },
  {
   "cell_type": "code",
   "execution_count": 41,
   "id": "83d8b0b6-8be5-453a-a815-0c7021a60a74",
   "metadata": {},
   "outputs": [
    {
     "data": {
      "text/plain": [
       "<AxesSubplot:xlabel='Years of Employment', ylabel='Credit Score'>"
      ]
     },
     "execution_count": 41,
     "metadata": {},
     "output_type": "execute_result"
    },
    {
     "data": {
      "image/png": "[encoded data removed]",
      "text/plain": [
       "<Figure size 640x480 with 1 Axes>"
      ]
     },
     "metadata": {},
     "output_type": "display_data"
    }
   ],
   "source": [
    "sns.barplot(data=df,x='Years of Employment',y='Credit Score',hue='Finance Status')"
   ]
  },
  {
   "cell_type": "code",
   "execution_count": 42,
   "id": "6fe2f573-58ee-4807-a6f1-8614df4c445b",
   "metadata": {},
   "outputs": [],
   "source": [
    "df['Car'].replace({'Yes':1,'No':0}, inplace =True)"
   ]
  },
  {
   "cell_type": "code",
   "execution_count": 43,
   "id": "b6d37c67-08e2-4cc3-9686-4907059a1cf3",
   "metadata": {},
   "outputs": [
    {
     "data": {
      "text/plain": [
       "<AxesSubplot:xlabel='Years of Employment', ylabel='Credit Score'>"
      ]
     },
     "execution_count": 43,
     "metadata": {},
     "output_type": "execute_result"
    },
    {
     "data": {
      "image/png": "[encoded data removed]",
      "text/plain": [
       "<Figure size 640x480 with 1 Axes>"
      ]
     },
     "metadata": {},
     "output_type": "display_data"
    }
   ],
   "source": [
    "sns.barplot(data=df,x='Years of Employment',y='Credit Score',hue='Car')"
   ]
  },
  {
   "cell_type": "code",
   "execution_count": 44,
   "id": "1f9f4626-48c3-4032-869a-7c2766b24007",
   "metadata": {},
   "outputs": [],
   "source": [
    "df['Occupation']=df['Occupation'].astype(str)"
   ]
  },
  {
   "cell_type": "code",
   "execution_count": 45,
   "id": "6cc318b0-eb2c-4c76-b4b4-c0b9500d82c0",
   "metadata": {},
   "outputs": [],
   "source": [
    "# Grouping occupations\n",
    "other_occ_counts= df['Occupation'].value_counts()\n",
    "other_occupations=other_occ_counts[other_occ_counts<10]\n",
    "df.loc[df['Occupation'].isin(other_occupations.index),'Occupation']='Other'"
   ]
  },
  {
   "cell_type": "code",
   "execution_count": 46,
   "id": "3bc3623d-0790-48f7-8bd3-717a57019bab",
   "metadata": {},
   "outputs": [],
   "source": [
    "main_occ_counts= df['Occupation'].value_counts()\n",
    "main_occupations=other_occ_counts[(other_occ_counts>=5)& (other_occ_counts<338)]\n",
    "df.loc[df['Occupation'].isin(main_occupations.index),'Occupation']='Main'"
   ]
  },
  {
   "cell_type": "code",
   "execution_count": 47,
   "id": "e102a2ca-1ac2-4b47-8dee-b5a406f18d4a",
   "metadata": {},
   "outputs": [
    {
     "data": {
      "text/plain": [
       "Other    338\n",
       "Main     138\n",
       "Name: Occupation, dtype: int64"
      ]
     },
     "execution_count": 47,
     "metadata": {},
     "output_type": "execute_result"
    }
   ],
   "source": [
    "df['Occupation'].value_counts()"
   ]
  },
  {
   "cell_type": "code",
   "execution_count": 48,
   "id": "153f5fa3-1a97-4ec1-8456-f398fec8af2c",
   "metadata": {},
   "outputs": [],
   "source": [
    "df=pd.get_dummies(data=df, columns=['Occupation','Finance Status','Finance History'],drop_first=False)"
   ]
  },
  {
   "cell_type": "code",
   "execution_count": 49,
   "id": "cb163f11-01b2-4a59-b4b8-2f9cf5fa335b",
   "metadata": {},
   "outputs": [],
   "source": [
    "df['Car'].replace({'Yes':1,'No':0}, inplace =True)"
   ]
  },
  {
   "cell_type": "code",
   "execution_count": 50,
   "id": "76b91623-3d6b-453b-8f71-646fcd607ebd",
   "metadata": {},
   "outputs": [
    {
     "data": {
      "text/html": [
       "<div>\n",
       "<style scoped>\n",
       "    .dataframe tbody tr th:only-of-type {\n",
       "        vertical-align: middle;\n",
       "    }\n",
       "\n",
       "    .dataframe tbody tr th {\n",
       "        vertical-align: top;\n",
       "    }\n",
       "\n",
       "    .dataframe thead th {\n",
       "        text-align: right;\n",
       "    }\n",
       "</style>\n",
       "<table border=\"1\" class=\"dataframe\">\n",
       "  <thead>\n",
       "    <tr style=\"text-align: right;\">\n",
       "      <th></th>\n",
       "      <th>Monthly Income</th>\n",
       "      <th>Credit Score</th>\n",
       "      <th>Years of Employment</th>\n",
       "      <th>Car</th>\n",
       "      <th>Number of Children</th>\n",
       "      <th>Occupation_Main</th>\n",
       "      <th>Occupation_Other</th>\n",
       "      <th>Finance Status_Excellent</th>\n",
       "      <th>Finance Status_Fair</th>\n",
       "      <th>Finance Status_Good</th>\n",
       "      <th>Finance Status_Poor</th>\n",
       "      <th>Finance Status_Stable</th>\n",
       "      <th>Finance Status_Unstable</th>\n",
       "      <th>Finance History_Excellent</th>\n",
       "      <th>Finance History_Fair</th>\n",
       "      <th>Finance History_Good</th>\n",
       "      <th>Finance History_Late payments</th>\n",
       "      <th>Finance History_Missed payments</th>\n",
       "      <th>Finance History_No issues</th>\n",
       "      <th>Finance History_Poor</th>\n",
       "    </tr>\n",
       "  </thead>\n",
       "  <tbody>\n",
       "    <tr>\n",
       "      <th>0</th>\n",
       "      <td>40000.0</td>\n",
       "      <td>7500.0</td>\n",
       "      <td>10.0</td>\n",
       "      <td>1</td>\n",
       "      <td>2.0</td>\n",
       "      <td>1</td>\n",
       "      <td>0</td>\n",
       "      <td>0</td>\n",
       "      <td>0</td>\n",
       "      <td>1</td>\n",
       "      <td>0</td>\n",
       "      <td>0</td>\n",
       "      <td>0</td>\n",
       "      <td>0</td>\n",
       "      <td>0</td>\n",
       "      <td>0</td>\n",
       "      <td>0</td>\n",
       "      <td>0</td>\n",
       "      <td>1</td>\n",
       "      <td>0</td>\n",
       "    </tr>\n",
       "    <tr>\n",
       "      <th>1</th>\n",
       "      <td>60000.0</td>\n",
       "      <td>8000.0</td>\n",
       "      <td>8.0</td>\n",
       "      <td>1</td>\n",
       "      <td>1.0</td>\n",
       "      <td>0</td>\n",
       "      <td>1</td>\n",
       "      <td>0</td>\n",
       "      <td>0</td>\n",
       "      <td>1</td>\n",
       "      <td>0</td>\n",
       "      <td>0</td>\n",
       "      <td>0</td>\n",
       "      <td>0</td>\n",
       "      <td>0</td>\n",
       "      <td>0</td>\n",
       "      <td>0</td>\n",
       "      <td>0</td>\n",
       "      <td>1</td>\n",
       "      <td>0</td>\n",
       "    </tr>\n",
       "    <tr>\n",
       "      <th>2</th>\n",
       "      <td>25000.0</td>\n",
       "      <td>6500.0</td>\n",
       "      <td>5.0</td>\n",
       "      <td>0</td>\n",
       "      <td>0.0</td>\n",
       "      <td>1</td>\n",
       "      <td>0</td>\n",
       "      <td>0</td>\n",
       "      <td>1</td>\n",
       "      <td>0</td>\n",
       "      <td>0</td>\n",
       "      <td>0</td>\n",
       "      <td>0</td>\n",
       "      <td>0</td>\n",
       "      <td>0</td>\n",
       "      <td>0</td>\n",
       "      <td>1</td>\n",
       "      <td>0</td>\n",
       "      <td>0</td>\n",
       "      <td>0</td>\n",
       "    </tr>\n",
       "    <tr>\n",
       "      <th>3</th>\n",
       "      <td>80000.0</td>\n",
       "      <td>9000.0</td>\n",
       "      <td>12.0</td>\n",
       "      <td>1</td>\n",
       "      <td>3.0</td>\n",
       "      <td>0</td>\n",
       "      <td>1</td>\n",
       "      <td>1</td>\n",
       "      <td>0</td>\n",
       "      <td>0</td>\n",
       "      <td>0</td>\n",
       "      <td>0</td>\n",
       "      <td>0</td>\n",
       "      <td>0</td>\n",
       "      <td>0</td>\n",
       "      <td>0</td>\n",
       "      <td>0</td>\n",
       "      <td>0</td>\n",
       "      <td>1</td>\n",
       "      <td>0</td>\n",
       "    </tr>\n",
       "    <tr>\n",
       "      <th>4</th>\n",
       "      <td>100000.0</td>\n",
       "      <td>7000.0</td>\n",
       "      <td>15.0</td>\n",
       "      <td>1</td>\n",
       "      <td>2.0</td>\n",
       "      <td>0</td>\n",
       "      <td>1</td>\n",
       "      <td>0</td>\n",
       "      <td>0</td>\n",
       "      <td>1</td>\n",
       "      <td>0</td>\n",
       "      <td>0</td>\n",
       "      <td>0</td>\n",
       "      <td>0</td>\n",
       "      <td>0</td>\n",
       "      <td>0</td>\n",
       "      <td>1</td>\n",
       "      <td>0</td>\n",
       "      <td>0</td>\n",
       "      <td>0</td>\n",
       "    </tr>\n",
       "  </tbody>\n",
       "</table>\n",
       "</div>"
      ],
      "text/plain": [
       "   Monthly Income  Credit Score  Years of Employment  Car  Number of Children  \\\n",
       "0         40000.0        7500.0                 10.0    1                 2.0   \n",
       "1         60000.0        8000.0                  8.0    1                 1.0   \n",
       "2         25000.0        6500.0                  5.0    0                 0.0   \n",
       "3         80000.0        9000.0                 12.0    1                 3.0   \n",
       "4        100000.0        7000.0                 15.0    1                 2.0   \n",
       "\n",
       "   Occupation_Main  Occupation_Other  Finance Status_Excellent  \\\n",
       "0                1                 0                         0   \n",
       "1                0                 1                         0   \n",
       "2                1                 0                         0   \n",
       "3                0                 1                         1   \n",
       "4                0                 1                         0   \n",
       "\n",
       "   Finance Status_Fair  Finance Status_Good  Finance Status_Poor  \\\n",
       "0                    0                    1                    0   \n",
       "1                    0                    1                    0   \n",
       "2                    1                    0                    0   \n",
       "3                    0                    0                    0   \n",
       "4                    0                    1                    0   \n",
       "\n",
       "   Finance Status_Stable  Finance Status_Unstable  Finance History_Excellent  \\\n",
       "0                      0                        0                          0   \n",
       "1                      0                        0                          0   \n",
       "2                      0                        0                          0   \n",
       "3                      0                        0                          0   \n",
       "4                      0                        0                          0   \n",
       "\n",
       "   Finance History_Fair  Finance History_Good  Finance History_Late payments  \\\n",
       "0                     0                     0                              0   \n",
       "1                     0                     0                              0   \n",
       "2                     0                     0                              1   \n",
       "3                     0                     0                              0   \n",
       "4                     0                     0                              1   \n",
       "\n",
       "   Finance History_Missed payments  Finance History_No issues  \\\n",
       "0                                0                          1   \n",
       "1                                0                          1   \n",
       "2                                0                          0   \n",
       "3                                0                          1   \n",
       "4                                0                          0   \n",
       "\n",
       "   Finance History_Poor  \n",
       "0                     0  \n",
       "1                     0  \n",
       "2                     0  \n",
       "3                     0  \n",
       "4                     0  "
      ]
     },
     "execution_count": 50,
     "metadata": {},
     "output_type": "execute_result"
    }
   ],
   "source": [
    "df.head()"
   ]
  },
  {
   "cell_type": "code",
   "execution_count": 51,
   "id": "17f141aa-c0d0-4895-baba-31dfc582afd1",
   "metadata": {},
   "outputs": [
    {
     "name": "stdout",
     "output_type": "stream",
     "text": [
      "<class 'pandas.core.frame.DataFrame'>\n",
      "Int64Index: 476 entries, 0 to 499\n",
      "Data columns (total 20 columns):\n",
      " #   Column                           Non-Null Count  Dtype  \n",
      "---  ------                           --------------  -----  \n",
      " 0   Monthly Income                   476 non-null    float64\n",
      " 1   Credit Score                     476 non-null    float64\n",
      " 2   Years of Employment              476 non-null    float64\n",
      " 3   Car                              476 non-null    int64  \n",
      " 4   Number of Children               476 non-null    float64\n",
      " 5   Occupation_Main                  476 non-null    uint8  \n",
      " 6   Occupation_Other                 476 non-null    uint8  \n",
      " 7   Finance Status_Excellent         476 non-null    uint8  \n",
      " 8   Finance Status_Fair              476 non-null    uint8  \n",
      " 9   Finance Status_Good              476 non-null    uint8  \n",
      " 10  Finance Status_Poor              476 non-null    uint8  \n",
      " 11  Finance Status_Stable            476 non-null    uint8  \n",
      " 12  Finance Status_Unstable          476 non-null    uint8  \n",
      " 13  Finance History_Excellent        476 non-null    uint8  \n",
      " 14  Finance History_Fair             476 non-null    uint8  \n",
      " 15  Finance History_Good             476 non-null    uint8  \n",
      " 16  Finance History_Late payments    476 non-null    uint8  \n",
      " 17  Finance History_Missed payments  476 non-null    uint8  \n",
      " 18  Finance History_No issues        476 non-null    uint8  \n",
      " 19  Finance History_Poor             476 non-null    uint8  \n",
      "dtypes: float64(4), int64(1), uint8(15)\n",
      "memory usage: 29.3 KB\n"
     ]
    }
   ],
   "source": [
    "df.info()"
   ]
  },
  {
   "cell_type": "markdown",
   "id": "e8ca9f2e-f77b-414f-b0e2-63ac7bbe848e",
   "metadata": {},
   "source": [
    "# Prediction"
   ]
  },
  {
   "cell_type": "markdown",
   "id": "651cc2aa-a726-4eb2-9385-5c1b75af7971",
   "metadata": {},
   "source": [
    "### Catboost Algorithm"
   ]
  },
  {
   "cell_type": "code",
   "execution_count": 52,
   "id": "7de63ef4-2c16-4bf7-b6cb-a884728de489",
   "metadata": {},
   "outputs": [
    {
     "name": "stdout",
     "output_type": "stream",
     "text": [
      "0:\tlearn: 0.6493034\ttotal: 72.8ms\tremaining: 7.2s\n",
      "1:\tlearn: 0.5980762\ttotal: 74.1ms\tremaining: 3.63s\n",
      "2:\tlearn: 0.5574632\ttotal: 75.5ms\tremaining: 2.44s\n",
      "3:\tlearn: 0.5225540\ttotal: 76.8ms\tremaining: 1.84s\n",
      "4:\tlearn: 0.4917671\ttotal: 77.8ms\tremaining: 1.48s\n",
      "5:\tlearn: 0.4635502\ttotal: 78.8ms\tremaining: 1.23s\n",
      "6:\tlearn: 0.4403283\ttotal: 79.9ms\tremaining: 1.06s\n",
      "7:\tlearn: 0.4211391\ttotal: 81ms\tremaining: 931ms\n",
      "8:\tlearn: 0.4012469\ttotal: 82.2ms\tremaining: 831ms\n",
      "9:\tlearn: 0.3807695\ttotal: 83.5ms\tremaining: 752ms\n",
      "10:\tlearn: 0.3672465\ttotal: 84.3ms\tremaining: 682ms\n",
      "11:\tlearn: 0.3534276\ttotal: 85ms\tremaining: 623ms\n",
      "12:\tlearn: 0.3417324\ttotal: 85.7ms\tremaining: 574ms\n",
      "13:\tlearn: 0.3305726\ttotal: 86.5ms\tremaining: 531ms\n",
      "14:\tlearn: 0.3193189\ttotal: 87.4ms\tremaining: 495ms\n",
      "15:\tlearn: 0.3089459\ttotal: 88ms\tremaining: 462ms\n",
      "16:\tlearn: 0.2994714\ttotal: 88.7ms\tremaining: 433ms\n",
      "17:\tlearn: 0.2919414\ttotal: 89.1ms\tremaining: 406ms\n",
      "18:\tlearn: 0.2862633\ttotal: 89.6ms\tremaining: 382ms\n",
      "19:\tlearn: 0.2798082\ttotal: 90.1ms\tremaining: 360ms\n",
      "20:\tlearn: 0.2727872\ttotal: 90.6ms\tremaining: 341ms\n",
      "21:\tlearn: 0.2678476\ttotal: 91.2ms\tremaining: 323ms\n",
      "22:\tlearn: 0.2632209\ttotal: 91.8ms\tremaining: 307ms\n",
      "23:\tlearn: 0.2587904\ttotal: 92.4ms\tremaining: 293ms\n",
      "24:\tlearn: 0.2544946\ttotal: 93.3ms\tremaining: 280ms\n",
      "25:\tlearn: 0.2507676\ttotal: 94.1ms\tremaining: 268ms\n",
      "26:\tlearn: 0.2460320\ttotal: 94.7ms\tremaining: 256ms\n",
      "27:\tlearn: 0.2417932\ttotal: 95.6ms\tremaining: 246ms\n",
      "28:\tlearn: 0.2383781\ttotal: 96.3ms\tremaining: 236ms\n",
      "29:\tlearn: 0.2351885\ttotal: 96.9ms\tremaining: 226ms\n",
      "30:\tlearn: 0.2321991\ttotal: 97.5ms\tremaining: 217ms\n",
      "31:\tlearn: 0.2284087\ttotal: 98.2ms\tremaining: 209ms\n",
      "32:\tlearn: 0.2256856\ttotal: 98.8ms\tremaining: 201ms\n",
      "33:\tlearn: 0.2239823\ttotal: 99.4ms\tremaining: 193ms\n",
      "34:\tlearn: 0.2220051\ttotal: 100ms\tremaining: 186ms\n",
      "35:\tlearn: 0.2193235\ttotal: 101ms\tremaining: 179ms\n",
      "36:\tlearn: 0.2170192\ttotal: 101ms\tremaining: 172ms\n",
      "37:\tlearn: 0.2149758\ttotal: 102ms\tremaining: 166ms\n",
      "38:\tlearn: 0.2133408\ttotal: 102ms\tremaining: 160ms\n",
      "39:\tlearn: 0.2114001\ttotal: 103ms\tremaining: 154ms\n",
      "40:\tlearn: 0.2093849\ttotal: 103ms\tremaining: 149ms\n",
      "41:\tlearn: 0.2082848\ttotal: 104ms\tremaining: 144ms\n",
      "42:\tlearn: 0.2068155\ttotal: 105ms\tremaining: 139ms\n",
      "43:\tlearn: 0.2061582\ttotal: 106ms\tremaining: 134ms\n",
      "44:\tlearn: 0.2048512\ttotal: 106ms\tremaining: 130ms\n",
      "45:\tlearn: 0.2031496\ttotal: 107ms\tremaining: 126ms\n",
      "46:\tlearn: 0.2014229\ttotal: 108ms\tremaining: 121ms\n",
      "47:\tlearn: 0.1996913\ttotal: 108ms\tremaining: 117ms\n",
      "48:\tlearn: 0.1990989\ttotal: 109ms\tremaining: 113ms\n",
      "49:\tlearn: 0.1978413\ttotal: 109ms\tremaining: 109ms\n",
      "50:\tlearn: 0.1962369\ttotal: 110ms\tremaining: 106ms\n",
      "51:\tlearn: 0.1950613\ttotal: 111ms\tremaining: 102ms\n",
      "52:\tlearn: 0.1940059\ttotal: 112ms\tremaining: 99ms\n",
      "53:\tlearn: 0.1929610\ttotal: 112ms\tremaining: 95.7ms\n",
      "54:\tlearn: 0.1912843\ttotal: 113ms\tremaining: 92.7ms\n",
      "55:\tlearn: 0.1890044\ttotal: 114ms\tremaining: 89.5ms\n",
      "56:\tlearn: 0.1881928\ttotal: 114ms\tremaining: 86.4ms\n",
      "57:\tlearn: 0.1880843\ttotal: 115ms\tremaining: 83.2ms\n",
      "58:\tlearn: 0.1873300\ttotal: 115ms\tremaining: 80.2ms\n",
      "59:\tlearn: 0.1863314\ttotal: 116ms\tremaining: 77.3ms\n",
      "60:\tlearn: 0.1835572\ttotal: 117ms\tremaining: 74.7ms\n",
      "61:\tlearn: 0.1821823\ttotal: 117ms\tremaining: 72ms\n",
      "62:\tlearn: 0.1804741\ttotal: 118ms\tremaining: 69.5ms\n",
      "63:\tlearn: 0.1802265\ttotal: 119ms\tremaining: 66.9ms\n",
      "64:\tlearn: 0.1792419\ttotal: 120ms\tremaining: 64.4ms\n",
      "65:\tlearn: 0.1778105\ttotal: 120ms\tremaining: 61.9ms\n",
      "66:\tlearn: 0.1765623\ttotal: 121ms\tremaining: 59.5ms\n",
      "67:\tlearn: 0.1747869\ttotal: 121ms\tremaining: 57.1ms\n",
      "68:\tlearn: 0.1731185\ttotal: 122ms\tremaining: 54.8ms\n",
      "69:\tlearn: 0.1724829\ttotal: 123ms\tremaining: 52.6ms\n",
      "70:\tlearn: 0.1714262\ttotal: 123ms\tremaining: 50.4ms\n",
      "71:\tlearn: 0.1709517\ttotal: 124ms\tremaining: 48.4ms\n",
      "72:\tlearn: 0.1701264\ttotal: 125ms\tremaining: 46.3ms\n",
      "73:\tlearn: 0.1685922\ttotal: 126ms\tremaining: 44.3ms\n",
      "74:\tlearn: 0.1678833\ttotal: 127ms\tremaining: 42.2ms\n",
      "75:\tlearn: 0.1671299\ttotal: 127ms\tremaining: 40.1ms\n",
      "76:\tlearn: 0.1664575\ttotal: 128ms\tremaining: 38.2ms\n",
      "77:\tlearn: 0.1658137\ttotal: 128ms\tremaining: 36.2ms\n",
      "78:\tlearn: 0.1651305\ttotal: 129ms\tremaining: 34.3ms\n",
      "79:\tlearn: 0.1639441\ttotal: 130ms\tremaining: 32.5ms\n",
      "80:\tlearn: 0.1626071\ttotal: 131ms\tremaining: 30.7ms\n",
      "81:\tlearn: 0.1616695\ttotal: 132ms\tremaining: 28.9ms\n",
      "82:\tlearn: 0.1610704\ttotal: 132ms\tremaining: 27.1ms\n",
      "83:\tlearn: 0.1601764\ttotal: 133ms\tremaining: 25.3ms\n",
      "84:\tlearn: 0.1597431\ttotal: 133ms\tremaining: 23.5ms\n",
      "85:\tlearn: 0.1592384\ttotal: 134ms\tremaining: 21.8ms\n",
      "86:\tlearn: 0.1582684\ttotal: 134ms\tremaining: 20.1ms\n",
      "87:\tlearn: 0.1578841\ttotal: 135ms\tremaining: 18.4ms\n",
      "88:\tlearn: 0.1574949\ttotal: 136ms\tremaining: 16.8ms\n",
      "89:\tlearn: 0.1568336\ttotal: 137ms\tremaining: 15.2ms\n",
      "90:\tlearn: 0.1563388\ttotal: 138ms\tremaining: 13.6ms\n",
      "91:\tlearn: 0.1557634\ttotal: 138ms\tremaining: 12ms\n",
      "92:\tlearn: 0.1554404\ttotal: 139ms\tremaining: 10.4ms\n",
      "93:\tlearn: 0.1545823\ttotal: 140ms\tremaining: 8.94ms\n",
      "94:\tlearn: 0.1542279\ttotal: 141ms\tremaining: 7.43ms\n",
      "95:\tlearn: 0.1534085\ttotal: 142ms\tremaining: 5.93ms\n",
      "96:\tlearn: 0.1530799\ttotal: 143ms\tremaining: 4.43ms\n",
      "97:\tlearn: 0.1522457\ttotal: 144ms\tremaining: 2.94ms\n",
      "98:\tlearn: 0.1519810\ttotal: 145ms\tremaining: 1.46ms\n",
      "99:\tlearn: 0.1516693\ttotal: 145ms\tremaining: 0us\n"
     ]
    }
   ],
   "source": [
    "X=df.drop('Car',axis=1)\n",
    "y=df['Car']\n",
    "X_train, X_test, y_train, y_test = train_test_split(X, y, test_size=0.2, random_state=42)\n",
    "model = CatBoostClassifier(iterations=100, learning_rate=0.1, depth=6, random_state=42)\n",
    "model.fit(X_train,y_train)\n",
    "y_pred= model.predict(X_test)"
   ]
  },
  {
   "cell_type": "code",
   "execution_count": 53,
   "id": "1d7e45bb-d003-4d8d-8c10-bb4e0fd01eeb",
   "metadata": {},
   "outputs": [
    {
     "data": {
      "text/plain": [
       "0.8645833333333334"
      ]
     },
     "execution_count": 53,
     "metadata": {},
     "output_type": "execute_result"
    }
   ],
   "source": [
    "accuracy = accuracy_score(y_test, y_pred)\n",
    "accuracy"
   ]
  },
  {
   "cell_type": "markdown",
   "id": "72477f30-07f4-4897-94e4-04c517cd57ef",
   "metadata": {},
   "source": [
    "### Random Forests Algorithm"
   ]
  },
  {
   "cell_type": "code",
   "execution_count": 54,
   "id": "93c2741e-0d91-4086-b2d2-e311a23cf30f",
   "metadata": {},
   "outputs": [
    {
     "data": {
      "text/plain": [
       "0.9166666666666666"
      ]
     },
     "execution_count": 54,
     "metadata": {},
     "output_type": "execute_result"
    }
   ],
   "source": [
    "X=df.drop('Car',axis=1)\n",
    "y=df['Car']\n",
    "X_train, X_test, y_train, y_test = train_test_split(X, y, test_size=0.2, random_state=40)\n",
    "model = RandomForestClassifier(n_estimators=100, random_state=42)\n",
    "model.fit(X_train,y_train)\n",
    "y_pred=model.predict(X_test)\n",
    "acc_score =accuracy_score(y_test,y_pred)\n",
    "acc_score"
   ]
  },
  {
   "cell_type": "markdown",
   "id": "13b93d17-6edc-4c84-9547-d24522b58f00",
   "metadata": {},
   "source": [
    "### XGBoost Algorithm"
   ]
  },
  {
   "cell_type": "code",
   "execution_count": 55,
   "id": "e3f3a6d8-be0b-4b0a-a065-77f39a787dd1",
   "metadata": {},
   "outputs": [
    {
     "data": {
      "text/plain": [
       "0.9166666666666666"
      ]
     },
     "execution_count": 55,
     "metadata": {},
     "output_type": "execute_result"
    }
   ],
   "source": [
    "model = XGBClassifier(n_estimators=100, learning_rate=0.1, random_state=42)\n",
    "model.fit(X_train,y_train)\n",
    "y_pred=model.predict(X_test)\n",
    "accuracy= accuracy_score(y_test,y_pred)\n",
    "accuracy"
   ]
  },
  {
   "cell_type": "code",
   "execution_count": null,
   "id": "b3950145-cffa-4434-8c07-33a6647e3ef3",
   "metadata": {},
   "outputs": [],
   "source": []
  }
 ],
 "metadata": {
  "kernelspec": {
   "display_name": "Python 3 (ipykernel)",
   "language": "python",
   "name": "python3"
  },
  "language_info": {
   "codemirror_mode": {
    "name": "ipython",
    "version": 3
   },
   "file_extension": ".py",
   "mimetype": "text/x-python",
   "name": "python",
   "nbconvert_exporter": "python",
   "pygments_lexer": "ipython3",
   "version": "3.9.13"
  }
 },
 "nbformat": 4,
 "nbformat_minor": 5
}
